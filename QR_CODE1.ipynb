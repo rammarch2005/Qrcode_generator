{
 "cells": [
  {
   "cell_type": "code",
   "execution_count": 5,
   "metadata": {},
   "outputs": [],
   "source": [
    "\n",
    "import qrcode\n",
    "from PIL import Image\n",
    "\n",
    "data = 'https://www.iitm.ac.in/'\n",
    "\n",
    "\n",
    "qr = qrcode.QRCode(\n",
    "    version=1,\n",
    "    error_correction=qrcode.constants.ERROR_CORRECT_H,\n",
    ")\n",
    "\n",
    "\n",
    "qr.add_data(data)\n",
    "qr.make(fit=True)\n",
    "\n",
    "\n",
    "qr_img = qr.make_image(fill_color=\"white\", back_color=\"transparent\")\n",
    "\n",
    "\n",
    "background_path = 'galaxy.png'\n",
    "background_img = Image.open(background_path)\n",
    "\n",
    "\n",
    "background_img = background_img.resize(qr_img.size)\n",
    "\n",
    "\n",
    "background_img = background_img.convert('RGBA')\n",
    "\n",
    "\n",
    "combined_img = Image.alpha_composite(background_img, qr_img)\n",
    "\n",
    "\n",
    "combined_img.save('my-qrcode-with-background.png')\n",
    "\n",
    "\n",
    "combined_img.show()"
   ]
  },
  {
   "cell_type": "code",
   "execution_count": null,
   "metadata": {},
   "outputs": [],
   "source": []
  }
 ],
 "metadata": {
  "kernelspec": {
   "display_name": "Python 3",
   "language": "python",
   "name": "python3"
  },
  "language_info": {
   "codemirror_mode": {
    "name": "ipython",
    "version": 3
   },
   "file_extension": ".py",
   "mimetype": "text/x-python",
   "name": "python",
   "nbconvert_exporter": "python",
   "pygments_lexer": "ipython3",
   "version": "3.7.9"
  }
 },
 "nbformat": 4,
 "nbformat_minor": 4
}
